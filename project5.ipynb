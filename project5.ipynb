{
 "cells": [
  {
   "cell_type": "code",
   "execution_count": 2,
   "metadata": {},
   "outputs": [],
   "source": [
    "import numpy as np"
   ]
  },
  {
   "cell_type": "code",
   "execution_count": 3,
   "metadata": {},
   "outputs": [],
   "source": [
    "import pandas as pd\n",
    "\n",
    "df= pd.read_csv(\"Main_Craigslist.csv\")\n",
    "\n"
   ]
  },
  {
   "cell_type": "code",
   "execution_count": 4,
   "metadata": {},
   "outputs": [
    {
     "data": {
      "text/plain": [
       "Index(['posting_date', 'Unnamed: 0', 'id', 'url', 'region', 'region_url',\n",
       "       'price', 'year', 'manufacturer', 'model', 'condition', 'cylinders',\n",
       "       'fuel', 'odometer', 'title_status', 'transmission', 'VIN', 'drive',\n",
       "       'size', 'type', 'paint_color', 'image_url', 'description', 'state',\n",
       "       'lat', 'long', 'posting_date.1', 'removal_date'],\n",
       "      dtype='object')"
      ]
     },
     "execution_count": 4,
     "metadata": {},
     "output_type": "execute_result"
    }
   ],
   "source": [
    "df.columns"
   ]
  },
  {
   "cell_type": "code",
   "execution_count": 5,
   "metadata": {},
   "outputs": [],
   "source": [
    "df[\"posting_date\"]= pd.to_datetime(df[\"posting_date\"])\n",
    "\n",
    "df.drop(\"description\",inplace=True,axis=1)\n",
    "\n",
    "\n"
   ]
  },
  {
   "cell_type": "code",
   "execution_count": 6,
   "metadata": {},
   "outputs": [
    {
     "data": {
      "text/plain": [
       "posting_date      datetime64[ns, UTC]\n",
       "Unnamed: 0                      int64\n",
       "id                              int64\n",
       "url                            object\n",
       "region                         object\n",
       "region_url                     object\n",
       "price                         float64\n",
       "year                            int64\n",
       "manufacturer                   object\n",
       "model                          object\n",
       "condition                      object\n",
       "cylinders                      object\n",
       "fuel                           object\n",
       "odometer                      float64\n",
       "title_status                   object\n",
       "transmission                   object\n",
       "VIN                            object\n",
       "drive                          object\n",
       "size                           object\n",
       "type                           object\n",
       "paint_color                    object\n",
       "image_url                      object\n",
       "state                          object\n",
       "lat                           float64\n",
       "long                          float64\n",
       "posting_date.1                 object\n",
       "removal_date      datetime64[ns, UTC]\n",
       "dtype: object"
      ]
     },
     "execution_count": 6,
     "metadata": {},
     "output_type": "execute_result"
    }
   ],
   "source": [
    "# df.dtypes\n",
    "\n",
    "df[\"removal_date\"] = pd.to_datetime(df[\"removal_date\"])\n",
    "df[\"posting_date\"]= pd.to_datetime(df[\"posting_date\"])\n",
    "df= df.astype({       'price':\"float64\", 'year':\"int64\",\"year\":\"int64\"})\n",
    "\n",
    "df.dtypes"
   ]
  },
  {
   "cell_type": "code",
   "execution_count": 7,
   "metadata": {},
   "outputs": [
    {
     "data": {
      "text/plain": [
       "array(['automatic', 'other', 'manual'], dtype=object)"
      ]
     },
     "execution_count": 7,
     "metadata": {},
     "output_type": "execute_result"
    }
   ],
   "source": [
    "df['transmission'].unique()"
   ]
  },
  {
   "cell_type": "code",
   "execution_count": 8,
   "metadata": {},
   "outputs": [
    {
     "name": "stdout",
     "output_type": "stream",
     "text": [
      "['gas' 'diesel' 'hybrid' 'electric']\n"
     ]
    }
   ],
   "source": [
    "from random import choice\n",
    "fuel = df[\"fuel\"].unique()\n",
    "fuels= np.delete(fuel,2)\n",
    "df[\"fuel\"].replace(\"other\",choice(fuel),inplace=True)\n",
    "\n",
    "print(df[\"fuel\"].unique())"
   ]
  },
  {
   "cell_type": "code",
   "execution_count": 13,
   "metadata": {},
   "outputs": [
    {
     "name": "stdout",
     "output_type": "stream",
     "text": [
      "<class 'pandas.core.frame.DataFrame'>\n",
      "RangeIndex: 426880 entries, 0 to 426879\n",
      "Data columns (total 27 columns):\n",
      " #   Column          Non-Null Count   Dtype              \n",
      "---  ------          --------------   -----              \n",
      " 0   posting_date    426880 non-null  datetime64[ns, UTC]\n",
      " 1   Unnamed: 0      426880 non-null  int64              \n",
      " 2   id              426880 non-null  int64              \n",
      " 3   url             426880 non-null  object             \n",
      " 4   region          426880 non-null  object             \n",
      " 5   region_url      426880 non-null  object             \n",
      " 6   price           426880 non-null  float64            \n",
      " 7   year            426880 non-null  int64              \n",
      " 8   manufacturer    426880 non-null  object             \n",
      " 9   model           426880 non-null  object             \n",
      " 10  condition       426880 non-null  object             \n",
      " 11  cylinders       426880 non-null  object             \n",
      " 12  fuel            426880 non-null  object             \n",
      " 13  odometer        426880 non-null  float64            \n",
      " 14  title_status    426880 non-null  object             \n",
      " 15  transmission    426880 non-null  object             \n",
      " 16  VIN             426880 non-null  object             \n",
      " 17  drive           426880 non-null  object             \n",
      " 18  size            426880 non-null  object             \n",
      " 19  type            426880 non-null  object             \n",
      " 20  paint_color     426880 non-null  object             \n",
      " 21  image_url       426880 non-null  object             \n",
      " 22  state           426880 non-null  object             \n",
      " 23  lat             426880 non-null  float64            \n",
      " 24  long            426880 non-null  float64            \n",
      " 25  posting_date.1  426880 non-null  object             \n",
      " 26  removal_date    426880 non-null  datetime64[ns, UTC]\n",
      "dtypes: datetime64[ns, UTC](2), float64(4), int64(3), object(18)\n",
      "memory usage: 87.9+ MB\n"
     ]
    }
   ],
   "source": [
    "# df.rename({'Unnamed: 0':\"posting_id\"},axis=1,inplace=True)\n",
    "\n",
    "# df.rename({\"id\":\"veh_id\",\"year\":\"manufac_year\",\"condition\":\"veh_condition\",\"size\":\"veh_size\",\"type\":\"veh_type\",\"state\":\"veh_state\",\"long\":\"longitude\"},inplace=True,axis=1)\n",
    "df.info()"
   ]
  },
  {
   "cell_type": "code",
   "execution_count": 9,
   "metadata": {},
   "outputs": [
    {
     "data": {
      "text/plain": [
       "Index(['posting_date', 'Unnamed: 0', 'id', 'url', 'region', 'region_url',\n",
       "       'price', 'year', 'manufacturer', 'model', 'condition', 'cylinders',\n",
       "       'fuel', 'odometer', 'title_status', 'transmission', 'VIN', 'drive',\n",
       "       'size', 'type', 'paint_color', 'image_url', 'state', 'lat', 'long',\n",
       "       'removal_date'],\n",
       "      dtype='object')"
      ]
     },
     "execution_count": 9,
     "metadata": {},
     "output_type": "execute_result"
    }
   ],
   "source": [
    "df.drop(\"posting_date.1\",axis=1,inplace=True)\n",
    "df.columns"
   ]
  },
  {
   "cell_type": "code",
   "execution_count": null,
   "metadata": {},
   "outputs": [],
   "source": [
    "\n",
    "        "
   ]
  },
  {
   "cell_type": "code",
   "execution_count": 70,
   "metadata": {},
   "outputs": [
    {
     "data": {
      "text/plain": [
       "stay_length\n",
       "short     316773\n",
       "medium    108862\n",
       "long        1245\n",
       "Name: count, dtype: int64"
      ]
     },
     "execution_count": 70,
     "metadata": {},
     "output_type": "execute_result"
    }
   ],
   "source": [
    "labels = [\"short\",\"medium\",\"long\"]\n",
    "bins=[df[\"stay_time\"].min(),df[\"stay_time\"].mean(),df[\"stay_time\"].max() ]\n",
    "\n",
    "\n",
    "df[\"stay_time\"] = df[\"removal_date\"] - df[\"posting_date\"]\n",
    "df.head().loc[:,[\"posting_date\",\"removal_date\",\"stay_time\"]]\n",
    "\n",
    "df[\"stay_length\"] = pd.cut(df[\"stay_time\"],bins=3,include_lowest=True,labels=labels)\n",
    "df.head(1000).loc[:,[\"posting_date\",\"removal_date\",\"stay_time\",\"stay_length\"]]\n",
    "\n",
    "df[\"stay_length\"].value_counts()"
   ]
  },
  {
   "cell_type": "code",
   "execution_count": 75,
   "metadata": {},
   "outputs": [
    {
     "data": {
      "text/plain": [
       "Index(['posting_date', 'posting_id', 'veh_id', 'url', 'region', 'region_url',\n",
       "       'price', 'year', 'manufacturer', 'model', 'condition', 'cylinders',\n",
       "       'fuel', 'odometer', 'title_status', 'transmission', 'VIN', 'drive',\n",
       "       'size', 'type', 'paint_color', 'image_url', 'state', 'lat', 'long',\n",
       "       'removal_date', 'stay_length'],\n",
       "      dtype='object')"
      ]
     },
     "execution_count": 75,
     "metadata": {},
     "output_type": "execute_result"
    }
   ],
   "source": [
    "df.drop(\"stay_time\",axis=1, inplace=True)\n",
    "df.columns"
   ]
  },
  {
   "cell_type": "code",
   "execution_count": 76,
   "metadata": {},
   "outputs": [],
   "source": [
    "import psycopg2\n",
    "\n",
    "conn = psycopg2.connect(\n",
    "    dbname =\"main_craigslist\",\n",
    "    password=\"@Liseveve97\",\n",
    "    host=\"localhost\",\n",
    "    user=\"postgres\"\n",
    ")\n",
    "\n",
    "curr = conn.cursor()\n",
    "\n",
    "# query2 = \"\"\"\n",
    "# ALTER TABLE LISTED_VEHICLES ADD stay_length VARCHAR(10)\n",
    "# \"\"\""
   ]
  },
  {
   "cell_type": "code",
   "execution_count": 68,
   "metadata": {},
   "outputs": [
    {
     "ename": "KeyboardInterrupt",
     "evalue": "",
     "output_type": "error",
     "traceback": [
      "\u001b[1;31m---------------------------------------------------------------------------\u001b[0m",
      "\u001b[1;31mKeyboardInterrupt\u001b[0m                         Traceback (most recent call last)",
      "\u001b[1;32md:\\Downloads\\project5.ipynb Cell 14\u001b[0m line \u001b[0;36m8\n\u001b[0;32m      <a href='vscode-notebook-cell:/d%3A/Downloads/project5.ipynb#X16sZmlsZQ%3D%3D?line=2'>3</a>\u001b[0m query3 \u001b[39m=\u001b[39m \u001b[39m\"\"\"\u001b[39m\n\u001b[0;32m      <a href='vscode-notebook-cell:/d%3A/Downloads/project5.ipynb#X16sZmlsZQ%3D%3D?line=3'>4</a>\u001b[0m \u001b[39mINSERT INTO LISTED_VEHICLES (stay_length) VALUES(\u001b[39m\u001b[39m%s\u001b[39;00m\u001b[39m)\u001b[39m\n\u001b[0;32m      <a href='vscode-notebook-cell:/d%3A/Downloads/project5.ipynb#X16sZmlsZQ%3D%3D?line=4'>5</a>\u001b[0m \n\u001b[0;32m      <a href='vscode-notebook-cell:/d%3A/Downloads/project5.ipynb#X16sZmlsZQ%3D%3D?line=5'>6</a>\u001b[0m \u001b[39m\"\"\"\u001b[39m\n\u001b[0;32m      <a href='vscode-notebook-cell:/d%3A/Downloads/project5.ipynb#X16sZmlsZQ%3D%3D?line=6'>7</a>\u001b[0m \u001b[39mfor\u001b[39;00m stay_length \u001b[39min\u001b[39;00m df[\u001b[39m\"\u001b[39m\u001b[39mstay_length\u001b[39m\u001b[39m\"\u001b[39m]:\n\u001b[1;32m----> <a href='vscode-notebook-cell:/d%3A/Downloads/project5.ipynb#X16sZmlsZQ%3D%3D?line=7'>8</a>\u001b[0m     curr\u001b[39m.\u001b[39;49mexecute(query3, (stay_length,))\n\u001b[0;32m     <a href='vscode-notebook-cell:/d%3A/Downloads/project5.ipynb#X16sZmlsZQ%3D%3D?line=10'>11</a>\u001b[0m conn\u001b[39m.\u001b[39mcommit()\n\u001b[0;32m     <a href='vscode-notebook-cell:/d%3A/Downloads/project5.ipynb#X16sZmlsZQ%3D%3D?line=11'>12</a>\u001b[0m curr\u001b[39m.\u001b[39mclose()\n",
      "File \u001b[1;32mc:\\Program Files\\Python311\\Lib\\encodings\\utf_8.py:15\u001b[0m, in \u001b[0;36mdecode\u001b[1;34m(input, errors)\u001b[0m\n\u001b[0;32m     11\u001b[0m \u001b[39m### Codec APIs\u001b[39;00m\n\u001b[0;32m     13\u001b[0m encode \u001b[39m=\u001b[39m codecs\u001b[39m.\u001b[39mutf_8_encode\n\u001b[1;32m---> 15\u001b[0m \u001b[39mdef\u001b[39;00m \u001b[39mdecode\u001b[39m(\u001b[39minput\u001b[39m, errors\u001b[39m=\u001b[39m\u001b[39m'\u001b[39m\u001b[39mstrict\u001b[39m\u001b[39m'\u001b[39m):\n\u001b[0;32m     16\u001b[0m     \u001b[39mreturn\u001b[39;00m codecs\u001b[39m.\u001b[39mutf_8_decode(\u001b[39minput\u001b[39m, errors, \u001b[39mTrue\u001b[39;00m)\n\u001b[0;32m     18\u001b[0m \u001b[39mclass\u001b[39;00m \u001b[39mIncrementalEncoder\u001b[39;00m(codecs\u001b[39m.\u001b[39mIncrementalEncoder):\n",
      "\u001b[1;31mKeyboardInterrupt\u001b[0m: "
     ]
    }
   ],
   "source": [
    "# curr.execute(query2\n",
    "\n",
    "query3 = \"\"\"\n",
    "INSERT INTO LISTED_VEHICLES (stay_length) VALUES(%s)\n",
    "\n",
    "\"\"\"\n",
    "for stay_length in df[\"stay_length\"]:\n",
    "    curr.execute(query3, (stay_length,))\n",
    "    \n",
    "    \n",
    "conn.commit()\n",
    "curr.close()\n",
    "conn.close()"
   ]
  },
  {
   "cell_type": "code",
   "execution_count": 77,
   "metadata": {},
   "outputs": [],
   "source": [
    "query = \"\"\"\n",
    "INSERT INTO LISTED_VEHICLES (\n",
    "    posting_date, posting_id, veh_id, url, region, region_url, price, manufac_year, manufacturer,\n",
    "    model, veh_condition, cylinders, fuel, odometer, title_status, transmission, VIN, drive,\n",
    "    veh_size, veh_type, paint_color, image_url, veh_state, lat, longitude, removal_date,stay_length\n",
    ")  VALUES (%s,%s,%s,%s,%s,%s,%s,%s,%s,%s,%s,%s,%s,%s,%s,%s,%s,%s,%s,%s,%s,%s,%s,%s,%s,%s,%s)\n",
    "\"\"\"\n",
    "\n",
    "for i in df.itertuples(index=False):\n",
    "    curr.execute(query,i)\n",
    "    \n",
    "conn.commit()\n",
    "curr.close()\n",
    "conn.close()"
   ]
  },
  {
   "cell_type": "code",
   "execution_count": 45,
   "metadata": {},
   "outputs": [],
   "source": [
    "curr.close()\n",
    "conn.close()\n"
   ]
  },
  {
   "cell_type": "code",
   "execution_count": 43,
   "metadata": {},
   "outputs": [
    {
     "data": {
      "text/html": [
       "<div>\n",
       "<style scoped>\n",
       "    .dataframe tbody tr th:only-of-type {\n",
       "        vertical-align: middle;\n",
       "    }\n",
       "\n",
       "    .dataframe tbody tr th {\n",
       "        vertical-align: top;\n",
       "    }\n",
       "\n",
       "    .dataframe thead th {\n",
       "        text-align: right;\n",
       "    }\n",
       "</style>\n",
       "<table border=\"1\" class=\"dataframe\">\n",
       "  <thead>\n",
       "    <tr style=\"text-align: right;\">\n",
       "      <th></th>\n",
       "      <th>model</th>\n",
       "      <th>manufacturer</th>\n",
       "      <th>manufac_year</th>\n",
       "    </tr>\n",
       "  </thead>\n",
       "  <tbody>\n",
       "    <tr>\n",
       "      <th>0</th>\n",
       "      <td>f-150</td>\n",
       "      <td>chevrolet</td>\n",
       "      <td>1978</td>\n",
       "    </tr>\n",
       "    <tr>\n",
       "      <th>1</th>\n",
       "      <td>c10</td>\n",
       "      <td>chevrolet</td>\n",
       "      <td>1959</td>\n",
       "    </tr>\n",
       "    <tr>\n",
       "      <th>2</th>\n",
       "      <td>mustang</td>\n",
       "      <td>ford</td>\n",
       "      <td>1965</td>\n",
       "    </tr>\n",
       "    <tr>\n",
       "      <th>3</th>\n",
       "      <td>beetle</td>\n",
       "      <td>volkswagen</td>\n",
       "      <td>1970</td>\n",
       "    </tr>\n",
       "    <tr>\n",
       "      <th>4</th>\n",
       "      <td>ranger</td>\n",
       "      <td>ford</td>\n",
       "      <td>1992</td>\n",
       "    </tr>\n",
       "  </tbody>\n",
       "</table>\n",
       "</div>"
      ],
      "text/plain": [
       "     model manufacturer  manufac_year\n",
       "0    f-150    chevrolet          1978\n",
       "1      c10    chevrolet          1959\n",
       "2  mustang         ford          1965\n",
       "3   beetle   volkswagen          1970\n",
       "4   ranger         ford          1992"
      ]
     },
     "execution_count": 43,
     "metadata": {},
     "output_type": "execute_result"
    }
   ],
   "source": [
    "new_df = pd.read_clipboard()\n",
    "new_df.head()"
   ]
  },
  {
   "cell_type": "code",
   "execution_count": 36,
   "metadata": {},
   "outputs": [],
   "source": [
    "import pyodbc\n",
    "\n",
    "pyodbc.drivers()\n",
    "\n",
    "import pyodbc\n",
    "\n",
    "conn = pyodbc.connect(\n",
    "    Driver=\"ODBC Driver 17 for SQL Server\",\n",
    "    Server='JAQENIZO\\SQLEXPRESS',\n",
    "    Trusted_Connection=\"yes\",  # or \"no\" if not using Windows Authentication\n",
    "    Database=\"CRAIGSLIST\"\n",
    ")\n",
    "\n",
    "\n",
    "cursor = conn.cursor()\n",
    "\n",
    "\n",
    "\n",
    "\n",
    "\n"
   ]
  },
  {
   "cell_type": "code",
   "execution_count": 17,
   "metadata": {},
   "outputs": [
    {
     "data": {
      "text/plain": [
       "<pyodbc.Cursor at 0x1e4346e4ab0>"
      ]
     },
     "execution_count": 17,
     "metadata": {},
     "output_type": "execute_result"
    }
   ],
   "source": [
    "query4 = \"\"\"\n",
    "ALTER TABLE VEHICLES_DETAILS ADD stay_length VARCHAR(10)\n",
    "\"\"\"\n",
    "\n",
    "cursor.execute(query4)"
   ]
  },
  {
   "cell_type": "code",
   "execution_count": 19,
   "metadata": {},
   "outputs": [],
   "source": [
    "query5 = '''\n",
    "INSERT INTO VEHICLES_DETAILS (stay_length) VALUES (?)\n",
    "'''\n",
    "\n",
    "for stay_length in df[\"stay_length\"]:\n",
    "    cursor.execute(query5, (stay_length,))\n",
    "\n",
    "conn.commit()"
   ]
  },
  {
   "cell_type": "code",
   "execution_count": 20,
   "metadata": {},
   "outputs": [
    {
     "data": {
      "text/plain": [
       "<function Connection.close>"
      ]
     },
     "execution_count": 20,
     "metadata": {},
     "output_type": "execute_result"
    }
   ],
   "source": [
    "# conn.commit()\n",
    "cursor.close()\n",
    "conn.close"
   ]
  },
  {
   "cell_type": "code",
   "execution_count": 35,
   "metadata": {},
   "outputs": [
    {
     "name": "stdout",
     "output_type": "stream",
     "text": [
      "<class 'pandas.core.frame.DataFrame'>\n",
      "RangeIndex: 426880 entries, 0 to 426879\n",
      "Data columns (total 27 columns):\n",
      " #   Column        Non-Null Count   Dtype              \n",
      "---  ------        --------------   -----              \n",
      " 0   posting_date  426880 non-null  datetime64[ns, UTC]\n",
      " 1   posting_id    426880 non-null  int64              \n",
      " 2   veh_id        426880 non-null  int64              \n",
      " 3   url           426880 non-null  object             \n",
      " 4   region        426880 non-null  object             \n",
      " 5   region_url    426880 non-null  object             \n",
      " 6   price         426880 non-null  float64            \n",
      " 7   year          426880 non-null  int64              \n",
      " 8   manufacturer  426880 non-null  object             \n",
      " 9   model         426880 non-null  object             \n",
      " 10  condition     426880 non-null  object             \n",
      " 11  cylinders     426880 non-null  object             \n",
      " 12  fuel          426880 non-null  object             \n",
      " 13  odometer      426880 non-null  float64            \n",
      " 14  title_status  426880 non-null  object             \n",
      " 15  transmission  426880 non-null  object             \n",
      " 16  VIN           426880 non-null  object             \n",
      " 17  drive         426880 non-null  object             \n",
      " 18  size          426880 non-null  object             \n",
      " 19  type          426880 non-null  object             \n",
      " 20  paint_color   426880 non-null  object             \n",
      " 21  image_url     426880 non-null  object             \n",
      " 22  state         426880 non-null  object             \n",
      " 23  lat           426880 non-null  float64            \n",
      " 24  long          426880 non-null  float64            \n",
      " 25  removal_date  426880 non-null  datetime64[ns, UTC]\n",
      " 26  stay_length   426880 non-null  category           \n",
      "dtypes: category(1), datetime64[ns, UTC](2), float64(4), int64(3), object(17)\n",
      "memory usage: 85.1+ MB\n"
     ]
    }
   ],
   "source": [
    "# df.drop(\"stay_time\",axis=1,inplace=True)\n",
    "df.rename({'id':'veh_id' },axis=1,inplace=True)\n",
    "df.info()"
   ]
  },
  {
   "cell_type": "code",
   "execution_count": 37,
   "metadata": {},
   "outputs": [],
   "source": [
    "insert_query = \"\"\"\n",
    "INSERT INTO VEHICLES_DETAILS(\n",
    "    posting_date, posting_id, id, link_url, region, region_url, price, manufac_year, manufacturer,\n",
    "    model, car_condition, cylinders, fuel, odometer, title_status, transmission, VIN, drive,\n",
    "    size, car_type, paint_color, image_url, veh_state, lat, longitude, removal_date,stay_length\n",
    ") VALUES (?, ?, ?, ?, ?, ?, ?, ?, ?, ?, ?, ?, ?, ?, ?, ?, ?, ?, ?, ?, ?, ?, ?, ?, ?, ?,?)\n",
    "\"\"\"\n",
    "\n",
    "for i in df.itertuples(index=False):\n",
    "    conn.execute(insert_query,i)\n",
    "    \n",
    "conn.commit()\n",
    "cursor.close()\n",
    "conn.close()"
   ]
  },
  {
   "cell_type": "code",
   "execution_count": 43,
   "metadata": {},
   "outputs": [
    {
     "data": {
      "text/plain": [
       "array(['automatic', 'other', 'manual'], dtype=object)"
      ]
     },
     "execution_count": 43,
     "metadata": {},
     "output_type": "execute_result"
    }
   ],
   "source": [
    "df[\"transmission\"].unique()"
   ]
  },
  {
   "cell_type": "code",
   "execution_count": 46,
   "metadata": {},
   "outputs": [
    {
     "data": {
      "text/plain": [
       "['SQL Server',\n",
       " 'Microsoft Access Driver (*.mdb, *.accdb)',\n",
       " 'Microsoft Excel Driver (*.xls, *.xlsx, *.xlsm, *.xlsb)',\n",
       " 'Microsoft Access Text Driver (*.txt, *.csv)',\n",
       " 'ODBC Driver 17 for SQL Server',\n",
       " 'SQL Server Native Client 11.0',\n",
       " 'SQL Server Native Client RDA 11.0',\n",
       " 'PostgreSQL ANSI(x64)',\n",
       " 'PostgreSQL Unicode(x64)',\n",
       " 'PostgreSQL ANSI',\n",
       " 'PostgreSQL Unicode']"
      ]
     },
     "execution_count": 46,
     "metadata": {},
     "output_type": "execute_result"
    }
   ],
   "source": [
    "# pyodbc.drivers()\n",
    "\n",
    "# conn2 = pyodbc.connect(\n",
    "#     DRIVER={SQL Server},\n",
    "#     Trusted_connection= 'Yes',\n",
    "#     Database =\"\"\n",
    "    \n",
    "# )"
   ]
  }
 ],
 "metadata": {
  "kernelspec": {
   "display_name": "Python 3",
   "language": "python",
   "name": "python3"
  },
  "language_info": {
   "codemirror_mode": {
    "name": "ipython",
    "version": 3
   },
   "file_extension": ".py",
   "mimetype": "text/x-python",
   "name": "python",
   "nbconvert_exporter": "python",
   "pygments_lexer": "ipython3",
   "version": "3.11.5"
  }
 },
 "nbformat": 4,
 "nbformat_minor": 2
}
